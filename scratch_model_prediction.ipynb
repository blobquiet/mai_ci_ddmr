{
 "nbformat": 4,
 "nbformat_minor": 0,
 "metadata": {
  "accelerator": "GPU",
  "colab": {
   "name": "scratch_model_prediction.ipynb",
   "private_outputs": true,
   "provenance": [],
   "collapsed_sections": [],
   "toc_visible": true
  },
  "kernelspec": {
   "name": "python3",
   "language": "python",
   "display_name": "Python 3"
  }
 },
 "cells": [
  {
   "cell_type": "markdown",
   "metadata": {
    "id": "n6ecAvsmQp1I"
   },
   "source": [
    "# Skin cancer prediction"
   ]
  },
  {
   "cell_type": "markdown",
   "metadata": {
    "id": "77gENRVX40S7"
   },
   "source": [
    "## Information"
   ]
  },
  {
   "cell_type": "markdown",
   "metadata": {
    "id": "d8jyt37T42Vf",
    "pycharm": {
     "name": "#%% md\n"
    }
   },
   "source": [
    "This notebook might be used as a test of the best model of our CI project.\n",
    "More information along with an android app (apk) can be obtained:\n",
    "\n",
    "https://skin-moles.web.app/\n",
    "\n",
    "This can be used freely for any purpose."
   ]
  },
  {
   "cell_type": "markdown",
   "metadata": {
    "id": "hRTa3Ee15WsJ"
   },
   "source": [
    "## Prediction"
   ]
  },
  {
   "cell_type": "code",
   "execution_count": 6,
   "outputs": [
    {
     "name": "stdout",
     "output_type": "stream",
     "text": [
      "Note: you may need to restart the kernel to use updated packages.\n",
      "Note: you may need to restart the kernel to use updated packages.\n",
      "Note: you may need to restart the kernel to use updated packages.\n",
      "Note: you may need to restart the kernel to use updated packages.\n"
     ]
    },
    {
     "name": "stderr",
     "output_type": "stream",
     "text": [
      "\"c:\\program\" no se reconoce como un comando interno o externo,\n",
      "programa o archivo por lotes ejecutable.\n",
      "\"c:\\program\" no se reconoce como un comando interno o externo,\n",
      "programa o archivo por lotes ejecutable.\n",
      "\"c:\\program\" no se reconoce como un comando interno o externo,\n",
      "programa o archivo por lotes ejecutable.\n",
      "\"c:\\program\" no se reconoce como un comando interno o externo,\n",
      "programa o archivo por lotes ejecutable.\n"
     ]
    }
   ],
   "source": [
    "%pip install tensorflow\n",
    "%pip install numpy\n",
    "%pip install matplotlib\n",
    "%pip install scikit-image"
   ],
   "metadata": {
    "collapsed": false,
    "pycharm": {
     "name": "#%%\n"
    }
   }
  },
  {
   "cell_type": "code",
   "metadata": {
    "id": "iBMcobPHdD8O"
   },
   "source": [
    "import tensorflow as tf\n",
    "import matplotlib.pyplot as plt"
   ],
   "execution_count": 7,
   "outputs": []
  },
  {
   "cell_type": "markdown",
   "metadata": {
    "id": "v77rlkCKW0IJ"
   },
   "source": [
    "### Setup Input Pipeline"
   ]
  },
  {
   "cell_type": "markdown",
   "metadata": {
    "id": "j4QOy2uA3P_p"
   },
   "source": [
    "Download\n",
    "\n",
    "*   Scratch Model.\n",
    "*   Test images.\n",
    "\n"
   ]
  },
  {
   "cell_type": "code",
   "metadata": {
    "id": "NJZpXOM0p7-n"
   },
   "source": [
    "! wget https://github.com/blobquiet/skin-moles-site/raw/main/model_all.h5\n",
    "! wget https://github.com/blobquiet/skin-moles-site/raw/main/data_test.zip\n",
    "! unzip data_test.zip >/dev/null"
   ],
   "execution_count": 8,
   "outputs": [
    {
     "name": "stderr",
     "output_type": "stream",
     "text": [
      "\"wget\" no se reconoce como un comando interno o externo,\n",
      "programa o archivo por lotes ejecutable.\n",
      "\"wget\" no se reconoce como un comando interno o externo,\n",
      "programa o archivo por lotes ejecutable.\n",
      "El sistema no puede encontrar la ruta especificada.\n"
     ]
    }
   ]
  },
  {
   "cell_type": "markdown",
   "metadata": {
    "id": "SugbniX-vLSK"
   },
   "source": [
    "### Load the images"
   ]
  },
  {
   "cell_type": "code",
   "metadata": {
    "id": "Mvmh7csmOc20"
   },
   "source": [
    "import os\n",
    "from PIL import Image\n",
    "import numpy as np\n",
    "from skimage.transform import resize\n",
    "import time\n",
    "ti = time.time()\n",
    "\n",
    "folder_benign_test = './data_test/benign'\n",
    "folder_malignant_test = './data_test/malignant'\n",
    "\n",
    "read = lambda imname: np.asarray(Image.open(imname).convert(\"RGB\"))\n",
    "\n",
    "# Load in testing pictures\n",
    "ims_benign = [read(os.path.join(folder_benign_test, filename)) for filename in os.listdir(folder_benign_test)]\n",
    "X_benign_test = np.array(ims_benign, dtype='uint8')\n",
    "ims_malignant = [read(os.path.join(folder_malignant_test, filename)) for filename in os.listdir(folder_malignant_test)]\n",
    "X_malignant_test = np.array(ims_malignant, dtype='uint8')\n",
    "\n",
    "# Create labels\n",
    "y_benign_test = np.zeros(X_benign_test.shape[0])\n",
    "y_malignant_test = np.ones(X_malignant_test.shape[0])\n",
    "\n",
    "# Merge data \n",
    "X_test = np.concatenate((X_benign_test, X_malignant_test), axis = 0)\n",
    "y_test = np.concatenate((y_benign_test, y_malignant_test), axis = 0)\n",
    "\n",
    "# Shuffle data\n",
    "s = np.arange(X_test.shape[0])\n",
    "np.random.shuffle(s)\n",
    "X_test = X_test[s]\n",
    "y_test = y_test[s]\n",
    "\n",
    "# get val data\n",
    "X_val = X_test[:100]\n",
    "\n",
    "# convert data type and normalize values\n",
    "X_test = X_test.astype('float32')\n",
    "X_test /= 255\n",
    "\n",
    "# 5x5 visualization \n",
    "class_names = ['Benign', 'Malignant']\n",
    "plt.figure(figsize=(10,10))\n",
    "\n",
    "for i in range(25):\n",
    "    plt.subplot(5,5,i+1)\n",
    "    plt.xticks([])\n",
    "    plt.yticks([])\n",
    "    plt.grid(False)\n",
    "    plt.imshow(X_test[i], cmap=plt.cm.binary)\n",
    "    plt.title(class_names[y_test[i].astype(int)])\n",
    "plt.show()"
   ],
   "execution_count": 9,
   "outputs": [
    {
     "ename": "FileNotFoundError",
     "evalue": "[WinError 3] El sistema no puede encontrar la ruta especificada: './data_test/benign'",
     "output_type": "error",
     "traceback": [
      "\u001B[1;31m---------------------------------------------------------------------------\u001B[0m",
      "\u001B[1;31mFileNotFoundError\u001B[0m                         Traceback (most recent call last)",
      "\u001B[1;32m<ipython-input-9-505a0642ec4f>\u001B[0m in \u001B[0;36m<module>\u001B[1;34m\u001B[0m\n\u001B[0;32m     12\u001B[0m \u001B[1;33m\u001B[0m\u001B[0m\n\u001B[0;32m     13\u001B[0m \u001B[1;31m# Load in testing pictures\u001B[0m\u001B[1;33m\u001B[0m\u001B[1;33m\u001B[0m\u001B[1;33m\u001B[0m\u001B[0m\n\u001B[1;32m---> 14\u001B[1;33m \u001B[0mims_benign\u001B[0m \u001B[1;33m=\u001B[0m \u001B[1;33m[\u001B[0m\u001B[0mread\u001B[0m\u001B[1;33m(\u001B[0m\u001B[0mos\u001B[0m\u001B[1;33m.\u001B[0m\u001B[0mpath\u001B[0m\u001B[1;33m.\u001B[0m\u001B[0mjoin\u001B[0m\u001B[1;33m(\u001B[0m\u001B[0mfolder_benign_test\u001B[0m\u001B[1;33m,\u001B[0m \u001B[0mfilename\u001B[0m\u001B[1;33m)\u001B[0m\u001B[1;33m)\u001B[0m \u001B[1;32mfor\u001B[0m \u001B[0mfilename\u001B[0m \u001B[1;32min\u001B[0m \u001B[0mos\u001B[0m\u001B[1;33m.\u001B[0m\u001B[0mlistdir\u001B[0m\u001B[1;33m(\u001B[0m\u001B[0mfolder_benign_test\u001B[0m\u001B[1;33m)\u001B[0m\u001B[1;33m]\u001B[0m\u001B[1;33m\u001B[0m\u001B[1;33m\u001B[0m\u001B[0m\n\u001B[0m\u001B[0;32m     15\u001B[0m \u001B[0mX_benign_test\u001B[0m \u001B[1;33m=\u001B[0m \u001B[0mnp\u001B[0m\u001B[1;33m.\u001B[0m\u001B[0marray\u001B[0m\u001B[1;33m(\u001B[0m\u001B[0mims_benign\u001B[0m\u001B[1;33m,\u001B[0m \u001B[0mdtype\u001B[0m\u001B[1;33m=\u001B[0m\u001B[1;34m'uint8'\u001B[0m\u001B[1;33m)\u001B[0m\u001B[1;33m\u001B[0m\u001B[1;33m\u001B[0m\u001B[0m\n\u001B[0;32m     16\u001B[0m \u001B[0mims_malignant\u001B[0m \u001B[1;33m=\u001B[0m \u001B[1;33m[\u001B[0m\u001B[0mread\u001B[0m\u001B[1;33m(\u001B[0m\u001B[0mos\u001B[0m\u001B[1;33m.\u001B[0m\u001B[0mpath\u001B[0m\u001B[1;33m.\u001B[0m\u001B[0mjoin\u001B[0m\u001B[1;33m(\u001B[0m\u001B[0mfolder_malignant_test\u001B[0m\u001B[1;33m,\u001B[0m \u001B[0mfilename\u001B[0m\u001B[1;33m)\u001B[0m\u001B[1;33m)\u001B[0m \u001B[1;32mfor\u001B[0m \u001B[0mfilename\u001B[0m \u001B[1;32min\u001B[0m \u001B[0mos\u001B[0m\u001B[1;33m.\u001B[0m\u001B[0mlistdir\u001B[0m\u001B[1;33m(\u001B[0m\u001B[0mfolder_malignant_test\u001B[0m\u001B[1;33m)\u001B[0m\u001B[1;33m]\u001B[0m\u001B[1;33m\u001B[0m\u001B[1;33m\u001B[0m\u001B[0m\n",
      "\u001B[1;31mFileNotFoundError\u001B[0m: [WinError 3] El sistema no puede encontrar la ruta especificada: './data_test/benign'"
     ]
    }
   ]
  },
  {
   "cell_type": "markdown",
   "metadata": {
    "id": "OkH-kazQecHB"
   },
   "source": [
    "### Load the pre-trained model"
   ]
  },
  {
   "cell_type": "code",
   "metadata": {
    "id": "19IQ2gqneqmS"
   },
   "source": [
    "model = tf.keras.models.load_model('model_all.h5')\n",
    "model.summary()"
   ],
   "execution_count": null,
   "outputs": []
  },
  {
   "cell_type": "markdown",
   "metadata": {
    "id": "4G5O4jd6TuAG"
   },
   "source": [
    "### Prediction of the model"
   ]
  },
  {
   "cell_type": "code",
   "metadata": {
    "id": "SB3t82OQvnZE"
   },
   "source": [
    "# 5x5 visualization \n",
    "class_names = ['Benign', 'Malignant']\n",
    "plt.figure(figsize=(20,20))\n",
    "\n",
    "pred = (model.predict(X_val) > 0.5).astype(\"int32\")\n",
    "for i in range(25):\n",
    "    plt.subplot(5,5,i+1)\n",
    "    plt.xticks([])\n",
    "    plt.yticks([])\n",
    "    plt.grid(False)\n",
    "    plt.imshow(X_val[i], cmap=plt.cm.binary)\n",
    "    img = resize(X_val[i],(1,224,224,3))\n",
    "    if  pred[i] == 1:\n",
    "      prediction = class_names[1]\n",
    "    elif pred[i] == 0:\n",
    "      prediction = class_names[0]\n",
    "    plt.title(\"Label: \"+class_names[y_test[i].astype(int)] + \"\\nPrediction:\"+prediction)\n",
    "plt.show()"
   ],
   "execution_count": null,
   "outputs": []
  }
 ]
}